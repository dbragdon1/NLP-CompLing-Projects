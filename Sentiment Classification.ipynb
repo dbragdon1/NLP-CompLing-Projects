{
 "cells": [
  {
   "cell_type": "markdown",
   "metadata": {},
   "source": [
    "# Sentiment Classification With Multilayer Perceptrons and SVMs"
   ]
  },
  {
   "cell_type": "markdown",
   "metadata": {},
   "source": [
    "Here, we are going to take a shot at sentiment classification, using both a multilayer perceptron and an SVM. Our question here is if these models will be able to capture the features of a sentence that define if it is \"positive\" or \"negative\", A.K.A. its sentiment. \n",
    "\n",
    "For this project, I'm going to be using [yelp](https://archive.ics.uci.edu/ml/datasets/Sentiment+Labelled+Sentences) reviews from the UCI Machine Learning Repository. "
   ]
  },
  {
   "cell_type": "code",
   "execution_count": 388,
   "metadata": {},
   "outputs": [],
   "source": [
    "import numpy as np\n",
    "import pandas as pd\n",
    "import matplotlib.pyplot as plt\n",
    "import nltk\n",
    "from nltk.tokenize import word_tokenize\n",
    "from nltk.corpus import stopwords\n",
    "from sklearn.feature_extraction.text import TfidfVectorizer\n",
    "from sklearn.metrics import classification_report, precision_recall_fscore_support"
   ]
  },
  {
   "cell_type": "markdown",
   "metadata": {},
   "source": [
    "Lets start by downloading some NLTK libraries to help us process the raw review data. "
   ]
  },
  {
   "cell_type": "code",
   "execution_count": 12,
   "metadata": {},
   "outputs": [
    {
     "name": "stderr",
     "output_type": "stream",
     "text": [
      "[nltk_data] Downloading package punkt to\n",
      "[nltk_data]     C:\\Users\\dylan\\AppData\\Roaming\\nltk_data...\n",
      "[nltk_data]   Unzipping tokenizers\\punkt.zip.\n",
      "[nltk_data] Downloading package stopwords to\n",
      "[nltk_data]     C:\\Users\\dylan\\AppData\\Roaming\\nltk_data...\n",
      "[nltk_data]   Unzipping corpora\\stopwords.zip.\n"
     ]
    },
    {
     "data": {
      "text/plain": [
       "True"
      ]
     },
     "execution_count": 12,
     "metadata": {},
     "output_type": "execute_result"
    }
   ],
   "source": [
    "nltk.download('punkt')\n",
    "nltk.download('stopwords')"
   ]
  },
  {
   "cell_type": "markdown",
   "metadata": {},
   "source": [
    "# The Yelp Dataset"
   ]
  },
  {
   "cell_type": "code",
   "execution_count": 276,
   "metadata": {},
   "outputs": [],
   "source": [
    "yelp_dataset = pd.read_csv(\"yelp_labelled.txt\", sep = '\\t', header = None).sample(frac = 1)\n",
    "yelp_dataset.columns = ['Sentence', 'Sentiment']"
   ]
  },
  {
   "cell_type": "markdown",
   "metadata": {},
   "source": [
    "Lets check out a few sentences, and their sentiment, from the shuffled dataset."
   ]
  },
  {
   "cell_type": "code",
   "execution_count": 277,
   "metadata": {},
   "outputs": [
    {
     "data": {
      "text/html": [
       "<div>\n",
       "<style scoped>\n",
       "    .dataframe tbody tr th:only-of-type {\n",
       "        vertical-align: middle;\n",
       "    }\n",
       "\n",
       "    .dataframe tbody tr th {\n",
       "        vertical-align: top;\n",
       "    }\n",
       "\n",
       "    .dataframe thead th {\n",
       "        text-align: right;\n",
       "    }\n",
       "</style>\n",
       "<table border=\"1\" class=\"dataframe\">\n",
       "  <thead>\n",
       "    <tr style=\"text-align: right;\">\n",
       "      <th></th>\n",
       "      <th>Sentence</th>\n",
       "      <th>Sentiment</th>\n",
       "    </tr>\n",
       "  </thead>\n",
       "  <tbody>\n",
       "    <tr>\n",
       "      <th>935</th>\n",
       "      <td>This place lacked style!!</td>\n",
       "      <td>0</td>\n",
       "    </tr>\n",
       "    <tr>\n",
       "      <th>379</th>\n",
       "      <td>The staff are now not as friendly, the wait ti...</td>\n",
       "      <td>0</td>\n",
       "    </tr>\n",
       "    <tr>\n",
       "      <th>743</th>\n",
       "      <td>When I opened the sandwich, I was impressed, b...</td>\n",
       "      <td>0</td>\n",
       "    </tr>\n",
       "    <tr>\n",
       "      <th>506</th>\n",
       "      <td>Overall I wasn't very impressed with Noca.</td>\n",
       "      <td>0</td>\n",
       "    </tr>\n",
       "    <tr>\n",
       "      <th>325</th>\n",
       "      <td>The black eyed peas and sweet potatoes... UNREAL!</td>\n",
       "      <td>1</td>\n",
       "    </tr>\n",
       "  </tbody>\n",
       "</table>\n",
       "</div>"
      ],
      "text/plain": [
       "                                              Sentence  Sentiment\n",
       "935                          This place lacked style!!          0\n",
       "379  The staff are now not as friendly, the wait ti...          0\n",
       "743  When I opened the sandwich, I was impressed, b...          0\n",
       "506         Overall I wasn't very impressed with Noca.          0\n",
       "325  The black eyed peas and sweet potatoes... UNREAL!          1"
      ]
     },
     "execution_count": 277,
     "metadata": {},
     "output_type": "execute_result"
    }
   ],
   "source": [
    "yelp_dataset.head()"
   ]
  },
  {
   "cell_type": "markdown",
   "metadata": {},
   "source": [
    "In order to convert our text to numerical values, we're going to be using a TF-IDF vectorizer. This vectorizer is going to encode words based on how frequently they appear, while at the same time penalizing words for showing up very often. This is done as very common words may prove to be useless to the encoding of a corpus of data. "
   ]
  },
  {
   "cell_type": "code",
   "execution_count": 394,
   "metadata": {},
   "outputs": [],
   "source": [
    "vectorizer = TfidfVectorizer(analyzer = 'word',\n",
    "                             max_features = 2000,\n",
    "                             tokenizer = word_tokenize,\n",
    "                             stop_words = stopwords.words('english'))"
   ]
  },
  {
   "cell_type": "code",
   "execution_count": 395,
   "metadata": {},
   "outputs": [
    {
     "name": "stderr",
     "output_type": "stream",
     "text": [
      "c:\\users\\dylan\\appdata\\local\\programs\\python\\python36\\lib\\site-packages\\sklearn\\feature_extraction\\text.py:300: UserWarning: Your stop_words may be inconsistent with your preprocessing. Tokenizing the stop words generated tokens [\"'d\", \"'ll\", \"'re\", \"'s\", \"'ve\", 'could', 'might', 'must', \"n't\", 'need', 'sha', 'wo', 'would'] not in stop_words.\n",
      "  'stop_words.' % sorted(inconsistent))\n"
     ]
    }
   ],
   "source": [
    "yelp_vecs_X = vectorizer.fit_transform(yelp_dataset['Sentence']).toarray()\n",
    "yelp_vecs_Y = yelp_dataset[\"Sentiment\"]"
   ]
  },
  {
   "cell_type": "code",
   "execution_count": 396,
   "metadata": {},
   "outputs": [],
   "source": [
    "from sklearn.neural_network import MLPClassifier"
   ]
  },
  {
   "cell_type": "code",
   "execution_count": 397,
   "metadata": {},
   "outputs": [],
   "source": [
    "num_training = int(0.8*len(yelp_vecs_X))\n",
    "yelp_vecs_X_train = yelp_vecs_X[:num_training,:]\n",
    "yelp_vecs_X_test = yelp_vecs_X[num_training:, :]\n",
    "yelp_vecs_Y_train = yelp_vecs_Y[:num_training]\n",
    "yelp_vecs_Y_test = yelp_vecs_Y[num_training:]"
   ]
  },
  {
   "cell_type": "markdown",
   "metadata": {},
   "source": [
    "Let's try to use a multilayer perceptron to classify sentences by sentiment. "
   ]
  },
  {
   "cell_type": "markdown",
   "metadata": {},
   "source": [
    "## Activation Functions"
   ]
  },
  {
   "cell_type": "markdown",
   "metadata": {},
   "source": [
    "There is a multitude of different activation functions we could use in our perceptron model. Every function has its positives and negatives, so we will choose the optimal function by including them in our hyper-parameter grid search. Below is a demonstration of the different activation functions we will be iterating over. Notice the difference in the y-axis between each function, this is important to how the model will perform in the classification stage. "
   ]
  },
  {
   "cell_type": "code",
   "execution_count": 320,
   "metadata": {},
   "outputs": [
    {
     "data": {
      "image/png": "[encoded data removed]",
      "text/plain": [
       "<Figure size 432x288 with 1 Axes>"
      ]
     },
     "metadata": {
      "needs_background": "light"
     },
     "output_type": "display_data"
    },
    {
     "data": {
      "image/png": "[encoded data removed]",
      "text/plain": [
       "<Figure size 432x288 with 1 Axes>"
      ]
     },
     "metadata": {
      "needs_background": "light"
     },
     "output_type": "display_data"
    },
    {
     "data": {
      "image/png": "[encoded data removed]",
      "text/plain": [
       "<Figure size 432x288 with 1 Axes>"
      ]
     },
     "metadata": {
      "needs_background": "light"
     },
     "output_type": "display_data"
    }
   ],
   "source": [
    "def ReLU(x):\n",
    "    return max(0, x)\n",
    "\n",
    "def tanh(x):\n",
    "    return (np.exp(x) - np.exp(-x)) / (np.exp(x) + np.exp(-x))\n",
    "\n",
    "def logreg(x):\n",
    "    return 1 / (1 + np.exp(-x))\n",
    "\n",
    "ReLU_vals = []\n",
    "tanh_vals = []\n",
    "logreg_vals = []\n",
    "x = list(range(-10, 10))\n",
    "for val in x:\n",
    "    ReLU_vals.append(ReLU(val))\n",
    "    tanh_vals.append(tanh(val))\n",
    "    logreg_vals.append(logreg(val))\n",
    "    \n",
    "\n",
    "plt.plot(x,ReLU_vals)\n",
    "plt.xlim(-10,10)\n",
    "plt.ylim(-10,10)\n",
    "plt.title(\"The ReLU Curve\")\n",
    "plt.show()\n",
    "\n",
    "plt.plot(x,tanh_vals)\n",
    "plt.xlim(-10,10)\n",
    "plt.ylim(-1.10,1.10)\n",
    "plt.title(\"The tanh Curve\")\n",
    "plt.show()\n",
    "\n",
    "plt.plot(x,logreg_vals)\n",
    "plt.xlim(-10,10)\n",
    "plt.ylim(-.10,1.10)\n",
    "plt.title(\"The Logistic Regression Curve\")\n",
    "plt.show()"
   ]
  },
  {
   "cell_type": "markdown",
   "metadata": {},
   "source": [
    "## Predicting Sentiment"
   ]
  },
  {
   "cell_type": "markdown",
   "metadata": {},
   "source": [
    "Let's try to find the optimal set of hyperparameters that we can pick for our perceptron model. SKlearn has a convenient library for iterating over hyperparameters, where each combination of hyperparameters is cross-validated in order to find the best score. "
   ]
  },
  {
   "cell_type": "code",
   "execution_count": 39,
   "metadata": {},
   "outputs": [],
   "source": [
    "from sklearn.model_selection import GridSearchCV"
   ]
  },
  {
   "cell_type": "markdown",
   "metadata": {},
   "source": [
    "Let's iterate over a few different parameters. First, we can go through each activation function that we mentioned earlier. "
   ]
  },
  {
   "cell_type": "markdown",
   "metadata": {},
   "source": [
    "There are many other hyperparameters that we could iterate over, but for now we will focus on the different activation functions, as well as different architectures of hidden-layers for our perceptron.\n",
    "\n"
   ]
  },
  {
   "cell_type": "markdown",
   "metadata": {},
   "source": [
    "Sklearn lets you conveniently define the architecture of your neural net using tuple notation. To be specific, the *ith* entry in the tuple is the amount of **nodes** in the *ith* **hidden layer**. For example, a model with two hidden layers with 100 nodes each would be written as (100,100). As you can see below, I have chosen an arbitrary set of three hidden-layer architectures to try in our MLP model. \n",
    "\n",
    "For the **solver**, we will be using stochastic gradient descent. The 'solver' parameter is essentially the method that the model will use to perform an **update** to the weights at each iteration. \n",
    "\n",
    "Finally, **max_iter** is the amount of iterations that the model will perform before returning the final weights. The beauty of this sklearn package is that, if the model **converges** BEFORE the maximum iteration is met, then the model will return at that point. To be safe though, I'm setting a maximum iteration of 2000, so that the model has ample time to converge."
   ]
  },
  {
   "cell_type": "code",
   "execution_count": 304,
   "metadata": {},
   "outputs": [],
   "source": [
    "param_grid = {'activation': ['identity', 'logistic', 'tanh', 'relu'],\n",
    "             'hidden_layer_sizes': [(100, 50), (50, 100), (100,100)]}\n",
    "\n",
    "MLP_model = MLPClassifier(solver = 'sgd',\n",
    "                          max_iter = 2000)\n",
    "\n",
    "MLP_clf = GridSearchCV(MLP_model, param_grid, cv = 3)"
   ]
  },
  {
   "cell_type": "code",
   "execution_count": 305,
   "metadata": {},
   "outputs": [
    {
     "data": {
      "text/plain": [
       "GridSearchCV(cv=3, error_score='raise-deprecating',\n",
       "       estimator=MLPClassifier(activation='relu', alpha=0.0001, batch_size='auto', beta_1=0.9,\n",
       "       beta_2=0.999, early_stopping=False, epsilon=1e-08,\n",
       "       hidden_layer_sizes=(100,), learning_rate='constant',\n",
       "       learning_rate_init=0.001, max_iter=2000, momentum=0.9,\n",
       "       n_iter_no_change=10, nesterovs_momentum=True, power_t=0.5,\n",
       "       random_state=None, shuffle=True, solver='sgd', tol=0.0001,\n",
       "       validation_fraction=0.1, verbose=False, warm_start=False),\n",
       "       fit_params=None, iid='warn', n_jobs=None,\n",
       "       param_grid={'activation': ['identity', 'logistic', 'tanh', 'relu'], 'hidden_layer_sizes': [(100, 50), (50, 100), (100, 100)]},\n",
       "       pre_dispatch='2*n_jobs', refit=True, return_train_score='warn',\n",
       "       scoring=None, verbose=0)"
      ]
     },
     "execution_count": 305,
     "metadata": {},
     "output_type": "execute_result"
    }
   ],
   "source": [
    "MLP_clf.fit(yelp_vecs_X_train, yelp_vecs_Y_train)"
   ]
  },
  {
   "cell_type": "markdown",
   "metadata": {},
   "source": [
    "Now let's see the model's best-performing hyperparameters. "
   ]
  },
  {
   "cell_type": "code",
   "execution_count": 306,
   "metadata": {},
   "outputs": [
    {
     "name": "stdout",
     "output_type": "stream",
     "text": [
      "{'activation': 'identity', 'hidden_layer_sizes': (100, 100)}\n"
     ]
    }
   ],
   "source": [
    "print(MLP_clf.best_params_)"
   ]
  },
  {
   "cell_type": "markdown",
   "metadata": {},
   "source": [
    "Surprisingly, the 3-fold cross validated grid search has told us that the best-performing activation function is the identity function, which tells us that our data may not need the non-linear mapping provided by the ReLU, tanh, or other functions shown above."
   ]
  },
  {
   "cell_type": "markdown",
   "metadata": {},
   "source": [
    "Now, let's train our model with these hyperparameters and see the results."
   ]
  },
  {
   "cell_type": "code",
   "execution_count": 401,
   "metadata": {},
   "outputs": [
    {
     "data": {
      "text/plain": [
       "MLPClassifier(activation='identity', alpha=0.0001, batch_size='auto',\n",
       "       beta_1=0.9, beta_2=0.999, early_stopping=False, epsilon=1e-08,\n",
       "       hidden_layer_sizes=(100, 100), learning_rate='constant',\n",
       "       learning_rate_init=0.001, max_iter=2000, momentum=0.9,\n",
       "       n_iter_no_change=10, nesterovs_momentum=True, power_t=0.5,\n",
       "       random_state=None, shuffle=True, solver='sgd', tol=0.0001,\n",
       "       validation_fraction=0.1, verbose=False, warm_start=False)"
      ]
     },
     "execution_count": 401,
     "metadata": {},
     "output_type": "execute_result"
    }
   ],
   "source": [
    "best_MLP_model = MLPClassifier(solver = 'sgd',\n",
    "                               activation = 'identity',\n",
    "                               hidden_layer_sizes =(100,100),\n",
    "                               max_iter = 2000)\n",
    "best_MLP_model.fit(yelp_vecs_X_train, yelp_vecs_Y_train)"
   ]
  },
  {
   "cell_type": "code",
   "execution_count": 402,
   "metadata": {},
   "outputs": [
    {
     "name": "stdout",
     "output_type": "stream",
     "text": [
      "              precision    recall  f1-score   support\n",
      "\n",
      "           0       0.99      1.00      1.00       397\n",
      "           1       1.00      1.00      1.00       403\n",
      "\n",
      "   micro avg       1.00      1.00      1.00       800\n",
      "   macro avg       1.00      1.00      1.00       800\n",
      "weighted avg       1.00      1.00      1.00       800\n",
      "\n",
      "              precision    recall  f1-score   support\n",
      "\n",
      "           0       0.79      0.79      0.79       103\n",
      "           1       0.77      0.77      0.77        97\n",
      "\n",
      "   micro avg       0.78      0.78      0.78       200\n",
      "   macro avg       0.78      0.78      0.78       200\n",
      "weighted avg       0.78      0.78      0.78       200\n",
      "\n"
     ]
    }
   ],
   "source": [
    "yelp_vecs_pred_train_Y = best_MLP_model.predict(yelp_vecs_X_train)\n",
    "yelp_vecs_pred_test_Y = best_MLP_model.predict(yelp_vecs_X_test)\n",
    "print(classification_report(yelp_vecs_Y_train, yelp_vecs_pred_train_Y))\n",
    "print(classification_report(yelp_vecs_Y_test, yelp_vecs_pred_test_Y))"
   ]
  },
  {
   "cell_type": "markdown",
   "metadata": {},
   "source": [
    "The performance output tells us that we're seeing around 78% accuracy across precision and recall in our test scores. This isn't too bad. "
   ]
  },
  {
   "cell_type": "markdown",
   "metadata": {},
   "source": [
    "# SVM"
   ]
  },
  {
   "cell_type": "code",
   "execution_count": 51,
   "metadata": {},
   "outputs": [],
   "source": [
    "from sklearn.svm import SVC"
   ]
  },
  {
   "cell_type": "markdown",
   "metadata": {},
   "source": [
    "Let's see how an SVM performs in sentiment classification over our previous multilayer perceptron. \n",
    "\n",
    "\n",
    "To illustrate what an SVM is doing, lets start with generating a theoretical distribution."
   ]
  },
  {
   "cell_type": "code",
   "execution_count": 372,
   "metadata": {},
   "outputs": [],
   "source": [
    "from sklearn.datasets import make_circles"
   ]
  },
  {
   "cell_type": "markdown",
   "metadata": {},
   "source": [
    "The graph below represents a distribution of two different categories. Each color represents a different category. As we can see, our SVM will have to draw the decision boundary in a third circle between the purple and yellow circles. "
   ]
  },
  {
   "cell_type": "code",
   "execution_count": 380,
   "metadata": {},
   "outputs": [
    {
     "data": {
      "image/png": "[encoded data removed]",
      "text/plain": [
       "<Figure size 432x288 with 1 Axes>"
      ]
     },
     "metadata": {
      "needs_background": "light"
     },
     "output_type": "display_data"
    }
   ],
   "source": [
    "X,Y = make_circles(n_samples = 1000, noise = 0.01)\n",
    "\n",
    "        \n",
    "plt.scatter(X[:,0], X[:,1], c = Y)\n",
    "plt.show()"
   ]
  },
  {
   "cell_type": "code",
   "execution_count": 373,
   "metadata": {},
   "outputs": [],
   "source": [
    "X_vals = X[:,0]\n",
    "Y_vals = X[:,1]\n",
    "\n",
    "X_train, X_test = X[:800], X[800:]\n",
    "Y_train, Y_test = Y[:800], Y[800:]"
   ]
  },
  {
   "cell_type": "markdown",
   "metadata": {},
   "source": [
    "Let's formulate a classifier for this distribution. Finding a good SVM to model your data can sometimes amount to finding a good combination of your **gamma** and **C** hyperparameters. \n",
    "\n",
    "After playing around with a few different values of C and gamma (large C/small gamma, small C/large gamma, etc), it looks like our defining factor on the strength of our model is the size of gamma. Let's look at what happens when gamma is too small:"
   ]
  },
  {
   "cell_type": "code",
   "execution_count": 358,
   "metadata": {},
   "outputs": [
    {
     "name": "stdout",
     "output_type": "stream",
     "text": [
      "              precision    recall  f1-score   support\n",
      "\n",
      "           0       0.51      1.00      0.67       406\n",
      "           1       0.00      0.00      0.00       394\n",
      "\n",
      "   micro avg       0.51      0.51      0.51       800\n",
      "   macro avg       0.25      0.50      0.34       800\n",
      "weighted avg       0.26      0.51      0.34       800\n",
      "\n",
      "              precision    recall  f1-score   support\n",
      "\n",
      "           0       0.47      1.00      0.64        94\n",
      "           1       0.00      0.00      0.00       106\n",
      "\n",
      "   micro avg       0.47      0.47      0.47       200\n",
      "   macro avg       0.23      0.50      0.32       200\n",
      "weighted avg       0.22      0.47      0.30       200\n",
      "\n"
     ]
    },
    {
     "name": "stderr",
     "output_type": "stream",
     "text": [
      "c:\\users\\dylan\\appdata\\local\\programs\\python\\python36\\lib\\site-packages\\sklearn\\metrics\\classification.py:1143: UndefinedMetricWarning: Precision and F-score are ill-defined and being set to 0.0 in labels with no predicted samples.\n",
      "  'precision', 'predicted', average, warn_for)\n"
     ]
    }
   ],
   "source": [
    "toy_model = SVC(C = 0.01, gamma = 10e-2, kernel = 'poly', degree = 4)\n",
    "toy_model.fit(X_train, Y_train)\n",
    "Y_train_pred = toy_model.predict(X_train)\n",
    "Y_test_pred = toy_model.predict(X_test)\n",
    "print(classification_report(Y_train, Y_train_pred))\n",
    "print(classification_report(Y_test, Y_test_pred))"
   ]
  },
  {
   "cell_type": "code",
   "execution_count": 359,
   "metadata": {},
   "outputs": [
    {
     "data": {
      "image/png": "[encoded data removed]",
      "text/plain": [
       "<Figure size 432x288 with 1 Axes>"
      ]
     },
     "metadata": {
      "needs_background": "light"
     },
     "output_type": "display_data"
    }
   ],
   "source": [
    "#print(toy_model.support_vectors_)\n",
    "plt.scatter(X[:,0], X[:,1], c = Y)\n",
    "\n",
    "ax = plt.gca()\n",
    "xlim = ax.get_xlim()\n",
    "ylim = ax.get_ylim()\n",
    "\n",
    "xx = np.linspace(xlim[0], xlim[1], 30)\n",
    "yy = np.linspace(ylim[0], ylim[1], 30)\n",
    "YY, XX = np.meshgrid(yy, xx)\n",
    "xy = np.vstack([XX.ravel(), YY.ravel()]).T\n",
    "Z = toy_model.decision_function(xy).reshape(XX.shape)\n",
    "\n",
    "ax.contour(XX, YY, Z, colors='k', levels=[-1, 0, 1],\n",
    "           linestyles=['--', '-', '--'])\n",
    "plt.title(\"SVM with small gamma\")\n",
    "plt.show()"
   ]
  },
  {
   "cell_type": "markdown",
   "metadata": {},
   "source": [
    "In the above case, it looks like the decision boundary exists outside of the two rings. In fact, the decision boundary is nowhere to be seen in the above figure. Thus, it is completely missing the fact that there are two different categories to classify. "
   ]
  },
  {
   "cell_type": "markdown",
   "metadata": {},
   "source": [
    "Now let's try a large gamma. "
   ]
  },
  {
   "cell_type": "code",
   "execution_count": 362,
   "metadata": {},
   "outputs": [
    {
     "name": "stdout",
     "output_type": "stream",
     "text": [
      "              precision    recall  f1-score   support\n",
      "\n",
      "           0       1.00      1.00      1.00       406\n",
      "           1       1.00      1.00      1.00       394\n",
      "\n",
      "   micro avg       1.00      1.00      1.00       800\n",
      "   macro avg       1.00      1.00      1.00       800\n",
      "weighted avg       1.00      1.00      1.00       800\n",
      "\n",
      "              precision    recall  f1-score   support\n",
      "\n",
      "           0       1.00      1.00      1.00        94\n",
      "           1       1.00      1.00      1.00       106\n",
      "\n",
      "   micro avg       1.00      1.00      1.00       200\n",
      "   macro avg       1.00      1.00      1.00       200\n",
      "weighted avg       1.00      1.00      1.00       200\n",
      "\n"
     ]
    },
    {
     "data": {
      "image/png": "[encoded data removed]",
      "text/plain": [
       "<Figure size 432x288 with 1 Axes>"
      ]
     },
     "metadata": {
      "needs_background": "light"
     },
     "output_type": "display_data"
    }
   ],
   "source": [
    "toy_model = SVC(C = 0.01, gamma = 100, kernel = 'poly', degree = 4)\n",
    "toy_model.fit(X_train, Y_train)\n",
    "Y_train_pred = toy_model.predict(X_train)\n",
    "Y_test_pred = toy_model.predict(X_test)\n",
    "print(classification_report(Y_train, Y_train_pred))\n",
    "print(classification_report(Y_test, Y_test_pred))\n",
    "\n",
    "#print(toy_model.support_vectors_)\n",
    "plt.scatter(X[:,0], X[:,1], c = Y)\n",
    "\n",
    "ax = plt.gca()\n",
    "xlim = ax.get_xlim()\n",
    "ylim = ax.get_ylim()\n",
    "\n",
    "xx = np.linspace(xlim[0], xlim[1], 30)\n",
    "yy = np.linspace(ylim[0], ylim[1], 30)\n",
    "YY, XX = np.meshgrid(yy, xx)\n",
    "xy = np.vstack([XX.ravel(), YY.ravel()]).T\n",
    "Z = toy_model.decision_function(xy).reshape(XX.shape)\n",
    "\n",
    "ax.contour(XX, YY, Z, colors='k', levels=[-1, 0, 1],\n",
    "           linestyles=['--', '-', '--'])\n",
    "plt.title(\"SVM with large gamma\")\n",
    "plt.show()"
   ]
  },
  {
   "cell_type": "markdown",
   "metadata": {},
   "source": [
    "As you can see, our theoretical model is reaching perfect accuracy (not something you would likely see in the real world). With a large gamma, the model was able to place the positive and negative hyperplanes (the dotted lines) right on the edges of each ring, with the decision boundary lying in the middle. It's difficult to see, but the positive hyperplane exists at the edge of the purple ring closest to the decision boundary.  "
   ]
  },
  {
   "cell_type": "markdown",
   "metadata": {},
   "source": [
    "Now let's apply the SVM to sentiment classification. First, we're going to perform another grid search over some different hyperparameters in order to achieve the best validation score. As you can see, we're first iterating over C. Then we move on to the kernel. We will be checking the performance of the linear kernel, the radial basis function kernel, and the polynomial kernel here. Finally, We're iterating over the degree, which only applies when dealing with the polynomial kernel. \n",
    "\n",
    "Unfortunately, iterating over different values of gamma proves to be very computationally expensive when grid-searching over different parameters. Instead, we will set the gamma to scale. We will iterate over gamma values in a separate grid-search below. For now, the gamma will be defined as \n",
    "\n",
    "$$\\frac{1}{n \\cdot var(X)}$$\n",
    "\n",
    "where $n$ refers to the number of features in our dataset. "
   ]
  },
  {
   "cell_type": "code",
   "execution_count": 341,
   "metadata": {},
   "outputs": [
    {
     "data": {
      "text/plain": [
       "GridSearchCV(cv=3, error_score='raise-deprecating',\n",
       "       estimator=SVC(C=1.0, cache_size=200, class_weight=None, coef0=0.0,\n",
       "  decision_function_shape='ovr', degree=3, gamma='scale', kernel='rbf',\n",
       "  max_iter=-1, probability=False, random_state=None, shrinking=True,\n",
       "  tol=0.001, verbose=False),\n",
       "       fit_params=None, iid='warn', n_jobs=None,\n",
       "       param_grid={'C': [0.01, 0.1, 1, 10], 'kernel': ['linear', 'rbf', 'poly'], 'degree': [2, 3, 4]},\n",
       "       pre_dispatch='2*n_jobs', refit=True, return_train_score='warn',\n",
       "       scoring=None, verbose=0)"
      ]
     },
     "execution_count": 341,
     "metadata": {},
     "output_type": "execute_result"
    }
   ],
   "source": [
    "param_grid = {'C': [0.01, 0.1, 1, 10],\n",
    "              'kernel': ['linear', 'rbf', 'poly'],\n",
    "              'degree': [2,3,4]}\n",
    "\n",
    "svm_model = SVC(gamma = 'scale')\n",
    "\n",
    "SVM_clf = GridSearchCV(svm_model, param_grid, cv = 3)\n",
    "\n",
    "SVM_clf.fit(yelp_vecs_X_train, yelp_vecs_Y_train)"
   ]
  },
  {
   "cell_type": "code",
   "execution_count": 342,
   "metadata": {},
   "outputs": [
    {
     "name": "stdout",
     "output_type": "stream",
     "text": [
      "{'C': 1, 'degree': 2, 'kernel': 'linear'}\n"
     ]
    }
   ],
   "source": [
    "print(SVM_clf.best_params_)"
   ]
  },
  {
   "cell_type": "markdown",
   "metadata": {},
   "source": [
    "As we can see above, our grid-search has determined that a linear kernel with a C of 1 is the optimal set of parameters chosen from our list above. Since the optimal kernel is linear, we can ignore the degree parameter (of which only applies to polynomial kernels). \n",
    "\n",
    "Now, lets iterate over different **gammas** to be used with our other optimal hyperparameters:"
   ]
  },
  {
   "cell_type": "code",
   "execution_count": 376,
   "metadata": {},
   "outputs": [
    {
     "data": {
      "text/plain": [
       "GridSearchCV(cv=3, error_score='raise-deprecating',\n",
       "       estimator=SVC(C=1, cache_size=200, class_weight=None, coef0=0.0,\n",
       "  decision_function_shape='ovr', degree=3, gamma='auto_deprecated',\n",
       "  kernel='linear', max_iter=-1, probability=False, random_state=None,\n",
       "  shrinking=True, tol=0.001, verbose=False),\n",
       "       fit_params=None, iid='warn', n_jobs=None,\n",
       "       param_grid={'gamma': [0.01, 0.1, 1.0, 10, 100.0, 1000.0, 10000.0]},\n",
       "       pre_dispatch='2*n_jobs', refit=True, return_train_score='warn',\n",
       "       scoring=None, verbose=0)"
      ]
     },
     "execution_count": 376,
     "metadata": {},
     "output_type": "execute_result"
    }
   ],
   "source": [
    "gamma_list = {'gamma': [10e-3, 10e-2, 10e-1, \n",
    "              10, 10e1, 10e2, 10e3]}\n",
    "\n",
    "svm_model = SVC(C = 1, kernel = 'linear')\n",
    "\n",
    "gamma_grid_search = GridSearchCV(svm_model, gamma_list, cv = 3)\n",
    "\n",
    "gamma_grid_search.fit(yelp_vecs_X_train, yelp_vecs_Y_train)"
   ]
  },
  {
   "cell_type": "markdown",
   "metadata": {},
   "source": [
    "3-fold cross-validation tells us that the best gamma for our model is 0.01. "
   ]
  },
  {
   "cell_type": "code",
   "execution_count": 377,
   "metadata": {},
   "outputs": [
    {
     "name": "stdout",
     "output_type": "stream",
     "text": [
      "{'gamma': 0.01}\n"
     ]
    }
   ],
   "source": [
    "print(gamma_grid_search.best_params_)"
   ]
  },
  {
   "cell_type": "code",
   "execution_count": 400,
   "metadata": {},
   "outputs": [
    {
     "name": "stdout",
     "output_type": "stream",
     "text": [
      "              precision    recall  f1-score   support\n",
      "\n",
      "           0       0.96      0.98      0.97       397\n",
      "           1       0.98      0.96      0.97       403\n",
      "\n",
      "   micro avg       0.97      0.97      0.97       800\n",
      "   macro avg       0.97      0.97      0.97       800\n",
      "weighted avg       0.97      0.97      0.97       800\n",
      "\n",
      "              precision    recall  f1-score   support\n",
      "\n",
      "           0       0.80      0.80      0.80       103\n",
      "           1       0.78      0.78      0.78        97\n",
      "\n",
      "   micro avg       0.79      0.79      0.79       200\n",
      "   macro avg       0.79      0.79      0.79       200\n",
      "weighted avg       0.79      0.79      0.79       200\n",
      "\n"
     ]
    }
   ],
   "source": [
    "best_svm = SVC(C = 1, gamma = 0.01, kernel = 'linear')\n",
    "best_svm.fit(yelp_vecs_X_train, yelp_vecs_Y_train)\n",
    "yelp_vecs_pred_train_Y = best_svm.predict(yelp_vecs_X_train)\n",
    "yelp_vecs_pred_test_Y = best_svm.predict(yelp_vecs_X_test)\n",
    "print(classification_report(yelp_vecs_Y_train, yelp_vecs_pred_train_Y))\n",
    "print(classification_report(yelp_vecs_Y_test, yelp_vecs_pred_test_Y))"
   ]
  },
  {
   "cell_type": "markdown",
   "metadata": {},
   "source": [
    "Above is the final accuracy report for our model. These slightly better results compared to the performance of the multilayer perceptron that was trained above. "
   ]
  }
 ],
 "metadata": {
  "kernelspec": {
   "display_name": "Python 3",
   "language": "python",
   "name": "python3"
  },
  "language_info": {
   "codemirror_mode": {
    "name": "ipython",
    "version": 3
   },
   "file_extension": ".py",
   "mimetype": "text/x-python",
   "name": "python",
   "nbconvert_exporter": "python",
   "pygments_lexer": "ipython3",
   "version": "3.6.7"
  }
 },
 "nbformat": 4,
 "nbformat_minor": 2
}
