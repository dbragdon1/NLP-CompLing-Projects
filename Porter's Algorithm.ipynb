{
 "cells": [
  {
   "cell_type": "markdown",
   "metadata": {},
   "source": [
    "# What is Porter's Algorithm?"
   ]
  },
  {
   "cell_type": "markdown",
   "metadata": {},
   "source": [
    "Porter's Algorithm, or the \"Porter Stemmer\", is an algorithm for stemming English words by removing their suffixes. The original paper can be found [here](http://cl.lingfil.uu.se/~marie/undervisning/textanalys16/porter.pdf). \n",
    "\n",
    "The paper itself sites the function of stemming words as useful for information retrieval. Stemming can reduce the complexity and size of a corpus by reducing many different words down to one term. The paper gives an example of this with the words *connect*, *connected*, *connecting*, *connection*, and *connections*. After stemming all of these words, we have reduced 4 words down to just one, *connect*. "
   ]
  },
  {
   "cell_type": "markdown",
   "metadata": {},
   "source": [
    "# Calculating the measure of a stem or word"
   ]
  },
  {
   "cell_type": "markdown",
   "metadata": {},
   "source": [
    "Important notation from the original paper:\n",
    "\n",
    "$V$ = any arbitrary number of vowels in a row\n",
    "\n",
    "$C$ = any arbitrary number of consonants in a row\n",
    "\n",
    "Ex: The string \"abcdefg\" can be written as v-c-c-c-v-c-c. This can be shortened to $VCVC$ "
   ]
  },
  {
   "cell_type": "markdown",
   "metadata": {},
   "source": [
    "One of the most important aspects of Porter's algorithm is what the original paper calls the *measure* of the stem or word. This is essentially counting the amount of times in a stem or word when a $VC$ occurs. If $VC$ occurs $m$ times, then the measure of the word = $m$. The measure of the word becomes important when the algorithm has to decide if a word is already stemmed. Typically a word with a $m < 1$ will not benefit from being stemmed. \n",
    "\n",
    "The paper gives the following representation for any given word:\n",
    "\n",
    "\n",
    "$$[C] \\; (VC)^{m} \\; [V]$$\n",
    "\n",
    "where the the $[C]$ and $[V]$ are arbitrary amounts of either consonants or vowels respectively. \n",
    "\n",
    "The below function will calculate the measure of a given word or stem. It will then return the above representation of the word, as well as the measure of the word, in a tuple."
   ]
  },
  {
   "cell_type": "code",
   "execution_count": 2,
   "metadata": {},
   "outputs": [],
   "source": [
    "vowels = ['a', 'e', 'i', 'o', 'u']\n",
    "\n",
    "consonants = ['b', 'c', 'd', 'f', 'g', 'h', 'j', 'k', 'l', 'm', 'n', \n",
    "              'p', 'q', 'r', 's', 't', 'v', 'w', 'x', 'y', 'z']"
   ]
  },
  {
   "cell_type": "code",
   "execution_count": 3,
   "metadata": {},
   "outputs": [],
   "source": [
    "def calculate_measure(word):\n",
    "    ar = list(word.lower())\n",
    "    VoC = []\n",
    "    for letter in ar:\n",
    "        if letter in vowels:\n",
    "            VoC.append('V')\n",
    "        else: VoC.append('C')\n",
    "    \n",
    "    blocks = [VoC[0]]\n",
    "    current = ''\n",
    "    for i in range(len(VoC)):\n",
    "        current = VoC[i]\n",
    "        if current != blocks[-1]:\n",
    "            blocks.append(current)\n",
    "    \n",
    "    measure = 0\n",
    "    for i in range(len(blocks) - 1):\n",
    "        if (blocks[i] == 'V'):\n",
    "            if (blocks[i + 1] == 'C'):\n",
    "                measure += 1\n",
    "                \n",
    "    return blocks, measure"
   ]
  },
  {
   "cell_type": "code",
   "execution_count": 5,
   "metadata": {},
   "outputs": [
    {
     "name": "stdout",
     "output_type": "stream",
     "text": [
      "(['C', 'V', 'C'], 1)\n",
      "(['C', 'V', 'C', 'V', 'C'], 2)\n"
     ]
    }
   ],
   "source": [
    "print(calculate_measure(\"trees\"))\n",
    "print(calculate_measure(\"never\"))"
   ]
  },
  {
   "cell_type": "markdown",
   "metadata": {},
   "source": [
    "The next two cells are helper functions for some of the later steps. \n",
    "\n",
    "The function *endswithdoublecons()* checks if the word or stem ends in double consonants. For example, the function would return true for \"catt\" or \"chess\" but would return false for \"cat\" or \"ches\". \n",
    "\n",
    "The next helper function, *endcvc()* checks if the last three letters of the word or stem occur in the order $CVC$. For example, thr function would return true for \"plaster\" and \"caresses\" but false for \"motoring\" and \"ponies\"."
   ]
  },
  {
   "cell_type": "code",
   "execution_count": 4,
   "metadata": {},
   "outputs": [],
   "source": [
    "def endswithdoublecons(word):\n",
    "    if (word[-1] in consonants) & (word[-2] == word[-1]):\n",
    "        return True"
   ]
  },
  {
   "cell_type": "code",
   "execution_count": 5,
   "metadata": {},
   "outputs": [],
   "source": [
    "def endcvc(word):\n",
    "    if (word[-3] in consonants) & (word[-1] in consonants) & (word[-2] in vowels):\n",
    "        return True"
   ]
  },
  {
   "cell_type": "markdown",
   "metadata": {},
   "source": [
    "# Getting to the Steps"
   ]
  },
  {
   "cell_type": "markdown",
   "metadata": {},
   "source": [
    "Now the steps are going to get very formulaic. It probably won't be much use explaining which each step is for. The original paper already does this extremely efficiently. As you'll come to notice, a lot of these steps will require dictionaries of suffix-pairs. This is because each step is checking for a condition, then either removing a suffix, adding a suffix, or both. "
   ]
  },
  {
   "cell_type": "markdown",
   "metadata": {},
   "source": [
    "# Step 1a"
   ]
  },
  {
   "cell_type": "code",
   "execution_count": 7,
   "metadata": {},
   "outputs": [],
   "source": [
    "def step1a(word):\n",
    "    if word.endswith('sses') or word.endswith('ies'):\n",
    "        return word[0:len(word) - 2]\n",
    "    elif word.endswith('s'):\n",
    "        return word[0:len(word) - 1]\n",
    "    return word"
   ]
  },
  {
   "cell_type": "markdown",
   "metadata": {},
   "source": [
    "# Step 1b "
   ]
  },
  {
   "cell_type": "code",
   "execution_count": 8,
   "metadata": {},
   "outputs": [],
   "source": [
    "def step1b(word):\n",
    "    stem= ''\n",
    "    if word.endswith('eed'):\n",
    "        stem = word[0:len(word) - 3]\n",
    "        if calculate_measure(stem)[1] > 0:\n",
    "            return word[0:len(word) - 1]\n",
    "        else: return (False, word)\n",
    "    elif word.endswith('ed'):\n",
    "        stem = word[0:len(word) - 2]\n",
    "        if any(vowel in stem for vowel in vowels):\n",
    "        \n",
    "            #returns true if word ended in \"ed\"\n",
    "            return (True, stem)\n",
    "        else: return (False, word)\n",
    "        \n",
    "        stem = word[0:len(word) - 2]\n",
    "    elif word.endswith('ing'):\n",
    "        stem = word[0:len(word) - 3]\n",
    "        if any(vowel in stem for vowel in vowels):\n",
    "            #returns true if word ended in \"ing\"\n",
    "            return (True, stem)\n",
    "        else: return (False, word)\n",
    "    else: return (False, word)"
   ]
  },
  {
   "cell_type": "markdown",
   "metadata": {},
   "source": [
    "I should add that the below *step1badd()* function isn't an explicit \"step\" in the algorithm. Rather, it's a function that works off of the results in the previous 1b step. \n",
    "\n",
    "In case you didn't notice in the code of Step 1b, the function not only returns a word/stem, but also a boolean value. I used these values to check for conditions on the returned word from this step, so that *step1badd()* can utilize this information. \n",
    "\n",
    "Information on this part of the algorithm is on the bottom of page 215 of the original paper. "
   ]
  },
  {
   "cell_type": "code",
   "execution_count": 9,
   "metadata": {},
   "outputs": [],
   "source": [
    "def step1badd(word):\n",
    "    end_result, stem = step1b(word)\n",
    "    if end_result == True:\n",
    "        if stem.endswith(\"at\") or stem.endswith(\"bl\") or stem.endswith(\"iz\"):\n",
    "            return stem + \"e\"\n",
    "    \n",
    "        elif (endswithdoublecons(stem) == True) & (stem[-1] not in ['l', 's', 'z']):\n",
    "            return stem[0:len(stem) - 1]\n",
    "    \n",
    "        elif (calculate_measure(stem)[1] == 1) & (endcvc(stem) == True):\n",
    "            return stem + \"e\"\n",
    "        else: return stem\n",
    "    return word"
   ]
  },
  {
   "cell_type": "markdown",
   "metadata": {},
   "source": [
    "# Step 1c"
   ]
  },
  {
   "cell_type": "code",
   "execution_count": 10,
   "metadata": {},
   "outputs": [],
   "source": [
    "def step1c(word):\n",
    "    if any(vowel in word for vowel in vowels) & (word[-1] == 'y'):\n",
    "        return (word[0:len(word)-1] + 'i')\n",
    "    else: return word"
   ]
  },
  {
   "cell_type": "markdown",
   "metadata": {},
   "source": [
    "# Step 2"
   ]
  },
  {
   "cell_type": "code",
   "execution_count": 12,
   "metadata": {},
   "outputs": [],
   "source": [
    "step2dict = {\n",
    "    \"ational\":\"ate\",\"tional\":\"tion\",\"enci\":\"ence\",\n",
    "    \"anci\":\"ance\",\"izer\":\"ize\",\"abli\":\"able\",\n",
    "    \"alli\":\"al\",\"entli\":\"ent\",\"eli\":\"e\",\n",
    "    \"ousli\":\"ous\",\"ization\":\"ize\",\"ation\":\"ate\",\n",
    "    \"ator\":\"ate\",\"alism\":\"al\",\"iveness\":\"ive\",\n",
    "    \"fulness\":\"ful\",\"ousness\":\"ous\",\"aliti\":\"al\",\n",
    "    \"iviti\":\"ive\",\"biliti\":\"ble\"\n",
    "}"
   ]
  },
  {
   "cell_type": "code",
   "execution_count": 33,
   "metadata": {},
   "outputs": [],
   "source": [
    "def step2(word):\n",
    "    if calculate_measure(word)[1] > 0:\n",
    "        for suffix in step2dict:\n",
    "            if word.endswith(suffix):\n",
    "                return word[0:len(word) - len(suffix)] + step2dict[suffix]\n",
    "    return word"
   ]
  },
  {
   "cell_type": "markdown",
   "metadata": {},
   "source": [
    "# Step 3"
   ]
  },
  {
   "cell_type": "code",
   "execution_count": 14,
   "metadata": {},
   "outputs": [],
   "source": [
    "step3dict = {\n",
    "    \"icate\":\"ic\",\n",
    "    \"ative\":\"\",\n",
    "    \"alize\":\"al\",\n",
    "    \"iciti\":\"ic\",\n",
    "    \"ical\":\"ic\",\n",
    "    \"ful\":\"\",\n",
    "    \"ness\":\"\"\n",
    "}"
   ]
  },
  {
   "cell_type": "code",
   "execution_count": 32,
   "metadata": {},
   "outputs": [],
   "source": [
    "def step3(word):\n",
    "    if calculate_measure(word)[1] > 0:\n",
    "        for suffix in step3dict:\n",
    "            if word.endswith(suffix):\n",
    "                return word[0:len(word) - len(suffix)] + step3dict[suffix]\n",
    "    return word"
   ]
  },
  {
   "cell_type": "markdown",
   "metadata": {},
   "source": [
    "# Step 4"
   ]
  },
  {
   "cell_type": "code",
   "execution_count": 17,
   "metadata": {},
   "outputs": [],
   "source": [
    "step4dict = {\n",
    "    \"al\":\"\", \"ance\":\"\", \"ence\":\"\",\n",
    "    \"er\":\"\", \"ic\":\"\", \"able\":\"\",\n",
    "    \"ible\":\"\", \"ant\":\"\", \"ement\":\"\",\n",
    "    \"ment\":\"\", \"ent\":\"\", \"sion\":\"\",\n",
    "    \"tion\":\"\", \"ou\":\"\", \"ism\":\"\",\n",
    "    \"ate\":\"\", \"iti\":\"\", \"ous\":\"\",\n",
    "    \"ive\":\"\", \"ize\":\"\"\n",
    "}"
   ]
  },
  {
   "cell_type": "code",
   "execution_count": 31,
   "metadata": {},
   "outputs": [],
   "source": [
    "def step4(word):\n",
    "    if calculate_measure(word)[1] > 1:\n",
    "        for suffix in step4dict:\n",
    "            if word.endswith(suffix):\n",
    "                return word[0:len(word) - len(suffix)] + step4dict[suffix]\n",
    "    return word"
   ]
  },
  {
   "cell_type": "markdown",
   "metadata": {},
   "source": [
    "# Step 5a "
   ]
  },
  {
   "cell_type": "code",
   "execution_count": 20,
   "metadata": {},
   "outputs": [],
   "source": [
    "def step5a(word):\n",
    "    if (calculate_measure(word)[1] > 1) & word.endswith('e'):\n",
    "        return word[0:len(word) - 1]\n",
    "    return word"
   ]
  },
  {
   "cell_type": "markdown",
   "metadata": {},
   "source": [
    "# Step 5b"
   ]
  },
  {
   "cell_type": "code",
   "execution_count": 21,
   "metadata": {},
   "outputs": [],
   "source": [
    "def step5b(word):\n",
    "    if (calculate_measure(word)[1] > 1) & (endswithdoublecons(word) == True) & word.endswith(\"l\"):\n",
    "        return word[0:len(word) - 1]\n",
    "    return word"
   ]
  },
  {
   "cell_type": "markdown",
   "metadata": {},
   "source": [
    "# Combining all the steps"
   ]
  },
  {
   "cell_type": "markdown",
   "metadata": {},
   "source": [
    "It looks a little messy, but the below function is simply running through each function and returning the resulting word or stem. This works because I wrote all of the above functions to return the original word if none of the conditions apply. This means that any word can safely run through each function without being chopped up incorrectly. "
   ]
  },
  {
   "cell_type": "code",
   "execution_count": 23,
   "metadata": {},
   "outputs": [],
   "source": [
    "def stem_word(word):\n",
    "    return(step5b(\n",
    "        step5a(\n",
    "            step4(\n",
    "                step3(\n",
    "                    step2(\n",
    "                        step1c(\n",
    "                            step1badd(\n",
    "                                step1a(word)))))))))"
   ]
  },
  {
   "cell_type": "markdown",
   "metadata": {},
   "source": [
    "# Testing the Algorithm"
   ]
  },
  {
   "cell_type": "markdown",
   "metadata": {},
   "source": [
    "Let's now test the algorithm on a paragraph taken from James Joyce's *Ulysses*. "
   ]
  },
  {
   "cell_type": "code",
   "execution_count": 35,
   "metadata": {},
   "outputs": [
    {
     "name": "stdout",
     "output_type": "stream",
     "text": [
      "Solemnly he came forward and mounted the round gunrest He faced about and blessed gravely thrice the tower, the surrounding land and the awaking mountains Then, catching sight of Stephen Dedalus, he bent towards him and made rapid crosses in the air, gurgling in his throat and shaking his head Stephen Dedalus, displeased and sleepy, leaned his arms on the top of the staircase and looked coldly at the shaking gurgling face that blessed him, equine in its length, and at the light untonsured hair, grained and hued like pale oak\n",
      "\n",
      "Solemnli he came forward and mount the round gunrest He face about and bless grave thrice the tower, the surround land and the awak mountain Then, catch sight of Stephen Dedalus, he bent toward him and made rapid cross in the air, gurgl in his throat and shake his head Stephen Dedalus, displeas and sleepy, lean his arms on the top of the staircas and look coldli at the shake gurgl face that bless him, equin in its length, and at the light untonsur hair, grain and hued like pale oak\n"
     ]
    }
   ],
   "source": [
    "example_string = \"Solemnly he came forward and mounted the round gunrest. He faced about and blessed gravely thrice the tower, the surrounding land and the awaking mountains. Then, catching sight of Stephen Dedalus, he bent towards him and made rapid crosses in the air, gurgling in his throat and shaking his head. Stephen Dedalus, displeased and sleepy, leaned his arms on the top of the staircase and looked coldly at the shaking gurgling face that blessed him, equine in its length, and at the light untonsured hair, grained and hued like pale oak.\"\n",
    "example_string = example_string.replace(\".\", \"\")\n",
    "arr = example_string.split()\n",
    "print(example_string + \"\\n\")\n",
    "\n",
    "stemmed_arr = []\n",
    "\n",
    "for word in arr:\n",
    "    if len(word) < 5:\n",
    "        stemmed_arr.append(word)\n",
    "        \n",
    "    else: stemmed_arr.append(stem_word(word))\n",
    "\n",
    "\n",
    "print(\" \".join(stemmed_arr))"
   ]
  },
  {
   "cell_type": "markdown",
   "metadata": {},
   "source": [
    "As shown from the results above, Porter's algorithm isn't perfect, but it does an incredible job stemming words."
   ]
  },
  {
   "cell_type": "code",
   "execution_count": null,
   "metadata": {},
   "outputs": [],
   "source": []
  }
 ],
 "metadata": {
  "kernelspec": {
   "display_name": "Python 3",
   "language": "python",
   "name": "python3"
  },
  "language_info": {
   "codemirror_mode": {
    "name": "ipython",
    "version": 3
   },
   "file_extension": ".py",
   "mimetype": "text/x-python",
   "name": "python",
   "nbconvert_exporter": "python",
   "pygments_lexer": "ipython3",
   "version": "3.6.7"
  }
 },
 "nbformat": 4,
 "nbformat_minor": 2
}
